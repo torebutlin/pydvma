{
 "cells": [
  {
   "cell_type": "code",
   "execution_count": 1,
   "id": "cbf5a33d",
   "metadata": {},
   "outputs": [],
   "source": [
    "%gui asyncio"
   ]
  },
  {
   "cell_type": "code",
   "execution_count": 2,
   "id": "e96edbcf",
   "metadata": {},
   "outputs": [],
   "source": [
    "import pydvma as dvma"
   ]
  },
  {
   "cell_type": "code",
   "execution_count": 3,
   "id": "bebb47b2",
   "metadata": {},
   "outputs": [],
   "source": [
    "settings = dvma.MySettings(channels=1,device_driver='soundcard')"
   ]
  },
  {
   "cell_type": "code",
   "execution_count": null,
   "id": "62c10375",
   "metadata": {},
   "outputs": [
    {
     "name": "stdout",
     "output_type": "stream",
     "text": [
      "Logging data for 2.0 seconds.\n",
      "\n",
      "Logging data for 2.0 seconds.\n",
      "Logging complete.\n",
      "\n",
      "Logging data for 2.0 seconds.\n",
      "\n",
      "Logging data for 2.0 seconds.\n",
      "Logging complete.\n",
      "\n",
      "Logging data for 2.3 seconds.\n",
      "\n",
      "Logging data for 2.3 seconds.\n",
      "Logging complete.\n",
      "\n"
     ]
    }
   ],
   "source": [
    "logger = dvma.Logger(settings)"
   ]
  },
  {
   "cell_type": "code",
   "execution_count": null,
   "id": "fd96e5a9",
   "metadata": {},
   "outputs": [],
   "source": []
  }
 ],
 "metadata": {
  "kernelspec": {
   "display_name": "Python 3 (ipykernel)",
   "language": "python",
   "name": "python3"
  },
  "language_info": {
   "codemirror_mode": {
    "name": "ipython",
    "version": 3
   },
   "file_extension": ".py",
   "mimetype": "text/x-python",
   "name": "python",
   "nbconvert_exporter": "python",
   "pygments_lexer": "ipython3",
   "version": "3.10.10"
  }
 },
 "nbformat": 4,
 "nbformat_minor": 5
}

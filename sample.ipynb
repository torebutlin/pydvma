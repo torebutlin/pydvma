{
 "cells": [
  {
   "cell_type": "code",
   "execution_count": 1,
   "id": "cbf5a33d",
   "metadata": {},
   "outputs": [],
   "source": [
    "%gui asyncio"
   ]
  },
  {
   "cell_type": "code",
   "execution_count": 2,
   "id": "e96edbcf",
   "metadata": {},
   "outputs": [],
   "source": [
    "import pydvma as dvma\n",
    "settings = dvma.MySettings(channels=1,device_driver='soundcard')\n",
    "logger = dvma.Logger(settings)"
   ]
  }
 ],
 "metadata": {
  "kernelspec": {
   "display_name": "Python 3 (ipykernel)",
   "language": "python",
   "name": "python3"
  },
  "language_info": {
   "codemirror_mode": {
    "name": "ipython",
    "version": 3
   },
   "file_extension": ".py",
   "mimetype": "text/x-python",
   "name": "python",
   "nbconvert_exporter": "python",
   "pygments_lexer": "ipython3",
   "version": "3.11.0"
  }
 },
 "nbformat": 4,
 "nbformat_minor": 5
}

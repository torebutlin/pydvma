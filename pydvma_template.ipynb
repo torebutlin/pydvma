{
 "cells": [
  {
   "cell_type": "markdown",
   "metadata": {},
   "source": [
    "<hr style=\"height:2px;border:none\" />\n",
    "\n",
    "# pydvma logger template\n",
    "\n",
    "*A template for using pydvma, the python dynamics and vibration measurement and analysis package*\n",
    "\n",
    "<hr style=\"height:2px;border:none\" />"
   ]
  },
  {
   "cell_type": "markdown",
   "metadata": {},
   "source": [
    "Start by importing the necessary modules (pydvma is a python package written for data acquisition at CUED)."
   ]
  },
  {
   "cell_type": "code",
   "execution_count": null,
   "metadata": {},
   "outputs": [],
   "source": [
    "# If the import doesn't work below, then uncomment and run the line below first.\n",
    "# The logger uses pyqt5: sometimes you need to set this backend explicity.\n",
    "# %matplotlib qt"
   ]
  },
  {
   "cell_type": "code",
   "execution_count": null,
   "metadata": {},
   "outputs": [],
   "source": [
    "import pydvma as ma\n",
    "import matplotlib\n",
    "import numpy as np"
   ]
  },
  {
   "cell_type": "code",
   "execution_count": null,
   "metadata": {},
   "outputs": [],
   "source": [
    "%matplotlib widget"
   ]
  },
  {
   "cell_type": "markdown",
   "metadata": {},
   "source": [
    "<hr style=\"height:2px;border:none\" />\n",
    "\n",
    "## Oscilloscope\n",
    "\n",
    "<hr style=\"height:2px;border:none\" />\n",
    "\n",
    "Choose your acquisition settings:\n",
    "\n",
    "* channels=2 (number of channels to record)\n",
    "* fs=44100 (sampling rate in Hz)\n",
    "* chunk_size=200 (how many samples to collect at a time, effectively controls refresh rate of oscilloscope)\n",
    "* stored_time=2 (time in seconds to record data for)\n",
    "* viewed_time=2 (time in seconds to display on oscilloscope)\n",
    "* device_index = 1 (Windows default input)"
   ]
  },
  {
   "cell_type": "code",
   "execution_count": null,
   "metadata": {},
   "outputs": [],
   "source": [
    "settings = ma.MySettings(channels=1,\n",
    "                           fs=44100,\n",
    "                           chunk_size=200,\n",
    "                           stored_time=2,\n",
    "                           viewed_time=2,\n",
    "                           device_driver='soundcard')\n",
    "# when using national instruments acquisition cards, change device_driver='nidaq'"
   ]
  },
  {
   "cell_type": "markdown",
   "metadata": {},
   "source": [
    "Now open a PC oscilloscope using your settings. This shows three plots:\n",
    "\n",
    "* the top one is like a normal oscilloscope showing the signal (toggle on/off with 'T');\n",
    "* the middle one shows the frequency spectrum of the signal (toggle on/off with 'F');\n",
    "* the bottom one shows the signal amplitudes (toggle on/off with 'L');\n",
    "* you can pause the data shown by pressing 'P' (press again to continue streaming data);\n",
    "* you can toggle whether the window is always on top by pressing 'A'\n",
    "\n",
    "Press the **space bar** to record data from the past 'stored_time' seconds.\n",
    "\n",
    "* The first time you press it you will be prompted for where to save your data.\n",
    "* Use the save dialog to navigate to where you want to save your data\n",
    "* Subsequent times you press it will auto-save to the same folder with a number added to the filename.\n",
    "* Press 's' if you want to save data to a new filename or location. Pressing space after that will auto-save with the new name.\n",
    "\n",
    "**Note that pressing 'space' captures the past N seconds of data: so you need to tap the beam, wait a second or so, then press space!**"
   ]
  },
  {
   "cell_type": "code",
   "execution_count": null,
   "metadata": {},
   "outputs": [],
   "source": [
    "osc = ma.Oscilloscope(settings)"
   ]
  },
  {
   "cell_type": "markdown",
   "metadata": {},
   "source": [
    "<hr style=\"height:2px;border:none\" />\n",
    "\n",
    "## Logger GUI\n",
    "\n",
    "<hr style=\"height:2px;border:none\" />\n",
    "\n",
    "You can also log data with the logger gui:"
   ]
  },
  {
   "cell_type": "code",
   "execution_count": null,
   "metadata": {},
   "outputs": [],
   "source": [
    "# COMMON SETTINGS EXAMPLE 1 (normal acquisition)\n",
    "settings = ma.MySettings(channels=1,\n",
    "                           fs=44100,\n",
    "                           stored_time=2,\n",
    "                           device_driver = 'soundcard')\n",
    "logger1 = ma.Logger(settings,\n",
    "                      test_name = 'ENTER_YOUR_TEST_NAME',\n",
    "                      default_window='hann')"
   ]
  },
  {
   "cell_type": "code",
   "execution_count": null,
   "metadata": {},
   "outputs": [],
   "source": [
    "# COMMON SETTINGS EXAMPLE 2 (acquisition with pre-trigger)\n",
    "settings = ma.MySettings(channels=2,\n",
    "                           fs=3000,\n",
    "                           stored_time=2,\n",
    "                           pretrig_samples=100,\n",
    "                           device_driver = 'soundcard',\n",
    "                           device_index=1)\n",
    "logger2 = ma.Logger(settings,\n",
    "                      test_name = 'ENTER_YOUR_TEST_NAME',\n",
    "                      default_window=None)"
   ]
  },
  {
   "cell_type": "markdown",
   "metadata": {},
   "source": [
    "<div class=\"alert alert-block alert-info\">\n",
    "    \n",
    "<b> Understanding the logger: </b><br/>\n",
    "\n",
    "When you press 'Save Dataset', the logger saves a &lt;DataSet&gt; object which has the following structure:\n",
    "\n",
    "<pre><code>\n",
    "    &lt;DataSet> class:\n",
    "          time_data_list: [&lt;TimeData>, &lt;TimeData>, &lt;TimeData>]\n",
    "          freq_data_list: [&lt;FreqData>, &lt;FreqData>, &lt;FreqData>]\n",
    "    cross_spec_data_list: []\n",
    "            tf_data_list: [&lt;TfData>, &lt;TfData>, &lt;TfData>]\n",
    "         modal_data_list: [&lt;ModalData>]\n",
    "          sono_data_list: []\n",
    "          meta_data_list: []\n",
    "          \n",
    "</code></pre>\n",
    "\n",
    "    \n",
    "Each type of data is arranged in 'sets', e.g. each measurement will add another &lt;TimeData&gt; set to time_data_list. This example has three sets of time, frequency and transfer function data types, and a &lt;ModalData&gt; set. Similarly each time you load data it will add the loaded sets to the appropriate data list.<br/><br/>\n",
    "\n",
    "<li> When you press 'Calc FFT' then a &lt;FreqData&gt; item is calculated for each &lt;TimeData&gt; set.</li>\n",
    "<li> When you press 'Calc TF' then a &lt;TfData&gt; item is calculated for each &lt;TimeData&gt; set.</li>\n",
    "<li> When you press 'Calc TF average' then a single &lt;TfData&gt; item is calculated averaging across all &lt;TimeData&gt; items, with an assumption that the time data sets all have the same settings.</li>\n",
    "</div>"
   ]
  },
  {
   "cell_type": "markdown",
   "metadata": {},
   "source": [
    "<hr style=\"height:2px;border:none\" />\n",
    "\n",
    "## Command line tools\n",
    "\n",
    "<hr style=\"height:2px;border:none\" />\n",
    "\n",
    "Another way to log data directly from the command line:"
   ]
  },
  {
   "cell_type": "code",
   "execution_count": null,
   "metadata": {},
   "outputs": [],
   "source": [
    "# SETTINGS\n",
    "settings = ma.MySettings(channels=1,\n",
    "                           fs=44100,\n",
    "                           stored_time=2,\n",
    "                           device_driver = 'soundcard')\n",
    "d = ma.log_data(settings)"
   ]
  },
  {
   "cell_type": "code",
   "execution_count": null,
   "metadata": {},
   "outputs": [],
   "source": [
    "d.plot_time_data()"
   ]
  },
  {
   "cell_type": "markdown",
   "metadata": {},
   "source": [
    "Calculate the FFT or transfer function:"
   ]
  },
  {
   "cell_type": "code",
   "execution_count": null,
   "metadata": {},
   "outputs": [],
   "source": [
    "d.calculate_fft_set(window='hanning')\n",
    "d.calculate_tf_set(window='hanning',N_frames=3)\n",
    "d.plot_freq_data()\n",
    "d.plot_tf_data()"
   ]
  },
  {
   "cell_type": "markdown",
   "metadata": {},
   "source": [
    "Save / load the dataset:"
   ]
  },
  {
   "cell_type": "code",
   "execution_count": null,
   "metadata": {},
   "outputs": [],
   "source": [
    "ma.save_data(d)"
   ]
  },
  {
   "cell_type": "code",
   "execution_count": null,
   "metadata": {},
   "outputs": [],
   "source": [
    "d = ma.load_data()"
   ]
  },
  {
   "cell_type": "code",
   "execution_count": null,
   "metadata": {},
   "outputs": [],
   "source": []
  }
 ],
 "metadata": {
  "kernelspec": {
   "display_name": "Python 3 (ipykernel)",
   "language": "python",
   "name": "python3"
  },
  "language_info": {
   "codemirror_mode": {
    "name": "ipython",
    "version": 3
   },
   "file_extension": ".py",
   "mimetype": "text/x-python",
   "name": "python",
   "nbconvert_exporter": "python",
   "pygments_lexer": "ipython3",
   "version": "3.10.11"
  }
 },
 "nbformat": 4,
 "nbformat_minor": 2
}
